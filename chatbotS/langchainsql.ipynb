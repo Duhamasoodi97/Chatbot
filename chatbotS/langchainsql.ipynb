{
  "cells": [
    {
      "cell_type": "markdown",
      "metadata": {},
      "source": [
        "IMPORT NECESSARY LIBRARIES"
      ]
    },
    {
      "cell_type": "code",
      "execution_count": null,
      "metadata": {
        "id": "_BOtrO3BFclU"
      },
      "outputs": [],
      "source": [
        "from langchain.llms import GooglePalm\n",
        "from langchain.utilities import SQLDatabase\n",
        "from langchain_experimental.sql import SQLDatabaseChain\n",
        "from langchain.prompts import SemanticSimilarityExampleSelector\n",
        "from langchain.embeddings import HuggingFaceEmbeddings\n",
        "from langchain.vectorstores import Chroma\n",
        "from langchain.prompts import FewShotPromptTemplate\n",
        "from langchain.chains.sql_database.prompt import PROMPT_SUFFIX, _mysql_prompt\n",
        "from langchain.prompts.prompt import PromptTemplate"
      ]
    },
    {
      "cell_type": "code",
      "execution_count": null,
      "metadata": {},
      "outputs": [],
      "source": [
        "from langchain.agents import create_sql_agent\n",
        "from langchain.agents.agent_toolkits import SQLDatabaseToolkit\n",
        "from langchain.agents.agent_types import AgentType\n",
        "from langchain.chat_models import ChatOpenAI\n",
        "from langchain.sql_database import SQLDatabase\n",
        "from langchain.prompts.chat import ChatPromptTemplate\n",
        "from sqlalchemy import create_engine"
      ]
    },
    {
      "cell_type": "markdown",
      "metadata": {},
      "source": [
        "CONNEC TO LLM USING API"
      ]
    },
    {
      "cell_type": "code",
      "execution_count": null,
      "metadata": {
        "id": "-8oDpMIZGM6b"
      },
      "outputs": [],
      "source": [
        "from langchain.llms import GooglePalm\n",
        "api_key=\" \"\n",
        "llm = GooglePalm(google_api_key=api_key, temperature=0.2)"
      ]
    },
    {
      "cell_type": "markdown",
      "metadata": {},
      "source": [
        "CONNECTION TO THE DATABASE"
      ]
    },
    {
      "cell_type": "code",
      "execution_count": null,
      "metadata": {},
      "outputs": [],
      "source": [
        "from sqlalchemy import create_engine\n",
        "\n",
        "#  connection string\n",
        "connection_string = (\n",
        "    'mssql+pyodbc:///?odbc_connect='\n",
        "    'DRIVER={ODBC Driver 18 for SQL Server};'\n",
        "    'SERVER=;'\n",
        "    'DATABASE=;'\n",
        "    'UID=;'\n",
        "    'PWD=;'\n",
        ")\n",
        "\n",
        "db_engine = create_engine(connection_string)\n"
      ]
    },
    {
      "cell_type": "code",
      "execution_count": null,
      "metadata": {},
      "outputs": [],
      "source": [
        "\n",
        "db=SQLDatabase(db_engine)"
      ]
    },
    {
      "cell_type": "code",
      "execution_count": null,
      "metadata": {},
      "outputs": [],
      "source": [
        "sql_toolkit=SQLDatabaseToolkit(db=db,llm=llm)\n"
      ]
    },
    {
      "cell_type": "markdown",
      "metadata": {},
      "source": [
        "CREATION OF THE PROMPT"
      ]
    },
    {
      "cell_type": "code",
      "execution_count": null,
      "metadata": {},
      "outputs": [],
      "source": [
        "prompt=ChatPromptTemplate.from_messages(\n",
        "    [\n",
        "        (\"system\",\n",
        "        \"\"\"\n",
        "        you are a very intelligent AI assitasnt who is expert in identifying relevant questions from user and converting into sql queriesa to generate correcrt answer.\n",
        "        Please use the below context to write the microsoft sql queries , dont use mysql queries.\n",
        "       context:\n",
        "       you must query against the connected database, it has total 64 tables that \n",
        "\n",
        " \n",
        "       \n",
        "       \n",
        "       As an expert you must use joins whenever required.\n",
        "        \"\"\"\n",
        "        ),\n",
        "        (\"user\",\"{question}: \")\n",
        "    ]\n",
        ")"
      ]
    },
    {
      "cell_type": "code",
      "execution_count": null,
      "metadata": {},
      "outputs": [],
      "source": [
        "# give me the list of regulatory authorities\n",
        "#How many regulations must we comply in UNITED KINGDOM\n",
        "#Give me list of analyst\n",
        "#List out the regulation that implies to India\n",
        "#ive me a list of controls that are related to risk\n",
        "#Give the list of segments which contain the word risk"
      ]
    },
    {
      "cell_type": "markdown",
      "metadata": {},
      "source": [
        "AGENT CREATION "
      ]
    },
    {
      "cell_type": "code",
      "execution_count": null,
      "metadata": {},
      "outputs": [],
      "source": [
        "agent=create_sql_agent(llm=llm,toolkit=sql_toolkit,agent_type=AgentType.ZERO_SHOT_REACT_DESCRIPTION,handle_parsing_errors=True,verbose=True)\n"
      ]
    },
    {
      "cell_type": "markdown",
      "metadata": {},
      "source": [
        "OUTPUT"
      ]
    },
    {
      "cell_type": "code",
      "execution_count": null,
      "metadata": {},
      "outputs": [],
      "source": [
        "agent.run(prompt.format_prompt(question=\"'\"))"
      ]
    }
  ],
  "metadata": {
    "colab": {
      "provenance": []
    },
    "kernelspec": {
      "display_name": "Python 3",
      "name": "python3"
    },
    "language_info": {
      "codemirror_mode": {
        "name": "ipython",
        "version": 3
      },
      "file_extension": ".py",
      "mimetype": "text/x-python",
      "name": "python",
      "nbconvert_exporter": "python",
      "pygments_lexer": "ipython3",
      "version": "3.11.7"
    }
  },
  "nbformat": 4,
  "nbformat_minor": 0
}
