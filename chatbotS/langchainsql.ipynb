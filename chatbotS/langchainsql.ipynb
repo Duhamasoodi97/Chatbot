{
  "cells": [
    {
      "cell_type": "markdown",
      "metadata": {},
      "source": [
        "IMPORT NECESSARY LIBRARIES"
      ]
    },
    {
      "cell_type": "code",
      "execution_count": 1,
      "metadata": {
        "id": "_BOtrO3BFclU"
      },
      "outputs": [],
      "source": [
        "from langchain.llms import GooglePalm\n",
        "from langchain.utilities import SQLDatabase\n",
        "from langchain_experimental.sql import SQLDatabaseChain\n",
        "from langchain.prompts import SemanticSimilarityExampleSelector\n",
        "from langchain.embeddings import HuggingFaceEmbeddings\n",
        "from langchain.vectorstores import Chroma\n",
        "from langchain.prompts import FewShotPromptTemplate\n",
        "from langchain.chains.sql_database.prompt import PROMPT_SUFFIX, _mysql_prompt\n",
        "from langchain.prompts.prompt import PromptTemplate"
      ]
    },
    {
      "cell_type": "code",
      "execution_count": 2,
      "metadata": {},
      "outputs": [],
      "source": [
        "from langchain.agents import create_sql_agent\n",
        "from langchain.agents.agent_toolkits import SQLDatabaseToolkit\n",
        "from langchain.agents.agent_types import AgentType\n",
        "from langchain.chat_models import ChatOpenAI\n",
        "from langchain.sql_database import SQLDatabase\n",
        "from langchain.prompts.chat import ChatPromptTemplate\n",
        "from sqlalchemy import create_engine"
      ]
    },
    {
      "cell_type": "markdown",
      "metadata": {},
      "source": [
        "CONNEC TO LLM USING API"
      ]
    },
    {
      "cell_type": "code",
      "execution_count": 5,
      "metadata": {
        "id": "-8oDpMIZGM6b"
      },
      "outputs": [],
      "source": [
        "from langchain.llms import GooglePalm\n",
        "api_key=\" \"\n",
        "llm = GooglePalm(google_api_key=api_key, temperature=0.2)"
      ]
    },
    {
      "cell_type": "markdown",
      "metadata": {},
      "source": [
        "CONNECTION TO THE DATABASE"
      ]
    },
    {
      "cell_type": "code",
      "execution_count": 7,
      "metadata": {},
      "outputs": [],
      "source": [
        "from sqlalchemy import create_engine\n",
        "\n",
        "#  connection string\n",
        "connection_string = (\n",
        "    'mssql+pyodbc:///?odbc_connect='\n",
        "    'DRIVER={ODBC Driver 18 for SQL Server};'\n",
        "    'SERVER=surety-dev.database.windows.net,1433;'\n",
        "    'DATABASE=;'\n",
        "    'UID=;'\n",
        "    'PWD=;'\n",
        ")\n",
        "\n",
        "db_engine = create_engine(connection_string)\n"
      ]
    },
    {
      "cell_type": "code",
      "execution_count": 8,
      "metadata": {},
      "outputs": [],
      "source": [
        "\n",
        "db=SQLDatabase(db_engine)"
      ]
    },
    {
      "cell_type": "code",
      "execution_count": 22,
      "metadata": {},
      "outputs": [],
      "source": [
        "sql_toolkit=SQLDatabaseToolkit(db=db,llm=llm)\n"
      ]
    },
    {
      "cell_type": "markdown",
      "metadata": {},
      "source": [
        "CREATION OF THE PROMPT"
      ]
    },
    {
      "cell_type": "code",
      "execution_count": 20,
      "metadata": {},
      "outputs": [],
      "source": [
        "prompt=ChatPromptTemplate.from_messages(\n",
        "    [\n",
        "        (\"system\",\n",
        "        \"\"\"\n",
        "        you are a very intelligent AI assitasnt who is expert in identifying relevant questions from user and converting into sql queriesa to generate correcrt answer.\n",
        "        Please use the below context to write the microsoft sql queries , dont use mysql queries.\n",
        "       context:\n",
        "     
        "       \n",
        "       \n",
        "       As an expert you must use joins whenever required.\n",
        "        \"\"\"\n",
        "        ),\n",
        "        (\"user\",\"{question}: \")\n",
        "    ]\n",
        ")"
      ]
    },
    {
      "cell_type": "code",
      "execution_count": null,
      "metadata": {},
      "outputs": [],
      "source": [
        "# give me the list of regulatory authorities\n",
        "#How many regulations must we comply in UNITED KINGDOM\n",
        "#Give me list of analyst\n",
        "#List out the regulation that implies to India\n",
        "#ive me a list of controls that are related to risk\n",
        "#Give the list of segments which contain the word risk"
      ]
    },
    {
      "cell_type": "markdown",
      "metadata": {},
      "source": [
        "AGENT CREATION "
      ]
    },
    {
      "cell_type": "code",
      "execution_count": 28,
      "metadata": {},
      "outputs": [
        {
          "name": "stdout",
          "output_type": "stream",
          "text": [
            "\n",
            "\n",
            "\u001b[1m> Entering new AgentExecutor chain...\u001b[0m\n",
            "\u001b[32;1m\u001b[1;3mAction: sql_db_list_tables\n",
            "Action Input: \u001b[0m\n",
            "Observation: \u001b[38;5;200m\u001b[1;3mApplicableIndustries, ApplicableJurisdictionDoc, ApplicableJurisdictions, ApplicableProducts, AuthorityMaster, ComplianceAssessment, ComplianceAssessmentAudit, ComplianceCommentary, ControlCategoryLabelMatrix, ControlCategoryMaster, ControlCategoryMatrix, ControlEvidanceMatrix, ControlLabelMaster, ControleEvidenceSegmentType, ControlsData, DocCtrlEvdncSegmSubmitStatus, DocWiseWorkFlowStatus, DocumentOwnerMapping, DocumentRequestDetails, DocumentRequestHeader, DocumentRequestRejectReason, DocumentScoreLog, DocumentSegmentData, DocumentSegmentMatrix, DocumentSegmentType, DocumentSubmitStepMaster, DocumentSubmitSteps, DocumentTimeline, DocumentUserRoleMapping, EmailNotificationEvents, EmailNotificationLog, EmailNotificationTemplates, Entities, EvidenceData, Geographies, IndustryMaster, JurisdictionMaster, LinkedControlMatrix, LinkedSegmentMatrix, ModuleMaster, NotificationEventRoleMapping, OrgTypeMaster, OrganisationMaster, OrganizationWideReports, OwnerType, ProductMaster, RegulationSubType, RegulationTypeMaster, RegulatoryDocument, RegulatoryDocumentAudit, ReviewAssessment, ReviewAssessmentAudit, ReviewCommentary, RoleMaster, RoleModuleMatrix, ScoreMaster, SegmentControlMatrix, SingleRegulationDocumentReports, StatusMaster, StatusMasterNew, UserMaster, sysdiagrams, tblException, tempcategorylabel\u001b[0m\n",
            "Thought:\u001b[32;1m\u001b[1;3mI should look at the schema of the UserMaster table to see what columns are available\n",
            "Action: sql_db_schema\n",
            "Action Input: UserMaster\u001b[0m\n",
            "Observation: \u001b[33;1m\u001b[1;3m\n",
            "CREATE TABLE [UserMaster] (\n",
            "\t[UserId] INTEGER NOT NULL IDENTITY(1,1), \n",
            "\t[Email] VARCHAR(300) COLLATE SQL_Latin1_General_CP1_CI_AS NOT NULL, \n",
            "\t[ForeName] VARCHAR(200) COLLATE SQL_Latin1_General_CP1_CI_AS NOT NULL, \n",
            "\t[SurName] VARCHAR(200) COLLATE SQL_Latin1_General_CP1_CI_AS NOT NULL, \n",
            "\t[PhysicalAddress] VARCHAR(500) COLLATE SQL_Latin1_General_CP1_CI_AS NULL, \n",
            "\t[JobTitle] VARCHAR(200) COLLATE SQL_Latin1_General_CP1_CI_AS NULL, \n",
            "\t[UserImage] VARCHAR(200) COLLATE SQL_Latin1_General_CP1_CI_AS NULL, \n",
            "\t[RoleId] INTEGER NOT NULL, \n",
            "\t[AccessToken] VARCHAR(200) COLLATE SQL_Latin1_General_CP1_CI_AS NULL, \n",
            "\t[OrganisationId] INTEGER NOT NULL, \n",
            "\t[isActive] BIT NOT NULL DEFAULT ((1)), \n",
            "\t[WhenEntered] DATETIME NOT NULL DEFAULT (getutcdate()), \n",
            "\t[WhenModified] DATETIME NULL, \n",
            "\tCONSTRAINT [PK__UserMast__1788CC4CB09317DB] PRIMARY KEY ([UserId]), \n",
            "\tCONSTRAINT [FK__UserMaste__Organ__1332DBDC] FOREIGN KEY([OrganisationId]) REFERENCES [OrganisationMaster] ([OrganisationId]), \n",
            "\tCONSTRAINT [FK__UserMaste__RoleI__123EB7A3] FOREIGN KEY([RoleId]) REFERENCES [RoleMaster] ([RoleId])\n",
            ")\n",
            "\n",
            "/*\n",
            "3 rows from UserMaster table:\n",
            "UserId\tEmail\tForeName\tSurName\tPhysicalAddress\tJobTitle\tUserImage\tRoleId\tAccessToken\tOrganisationId\tisActive\tWhenEntered\tWhenModified\n",
            "1\t\n",
            "Srinivas.Vedantam@ifi.tech\n",
            "\tSrinivas\tVedantam\tMumbai\tProject Manager\tNone\t10\tNone\t3\tTrue\t2021-10-25 15:05:34.190000\t2021-10-25 15:05:34.190000\n",
            "2\tTest@gmail.com\texp\tMish\thttps://localhost:44335/Users\tEngineer \t/Uploads/profiles/Profile-test@gmail.com-202204070918560444.JPG\t2\tNone\t3\tTrue\t2021-10-31 00:00:00\t2022-04-07 09:18:56.390000\n",
            "8\tnikita.rane@ifi.tech\tNikita\tRane\tVasai Road\tCloud Engineer\tNone\t2\tNone\t3\tFalse\t2021-10-31 00:00:00\t2022-04-01 18:14:21.023000\n",
            "*/\u001b[0m\n",
            "Thought:\u001b[32;1m\u001b[1;3mThe UserMaster table has a column called ForeName.  The value of the ForeName column for the row where the UserId is 1 is Srinivas.\n",
            "Action: sql_db_query\n",
            "Action Input: SELECT JobTitle FROM UserMaster WHERE ForeName = 'Randeep'\u001b[0m\n",
            "Observation: \u001b[36;1m\u001b[1;3m[(None,)]\u001b[0m\n",
            "Thought:\u001b[32;1m\u001b[1;3mThe query returned no results.  This means that there is no user in the UserMaster table with the ForeName of Randeep.\n",
            "Final Answer: No user found with ForeName = Randeep\u001b[0m\n",
            "\n",
            "\u001b[1m> Finished chain.\u001b[0m\n"
          ]
        },
        {
          "data": {
            "text/plain": [
              "'No user found with ForeName = Randeep'"
            ]
          },
          "execution_count": 28,
          "metadata": {},
          "output_type": "execute_result"
        }
      ],
      "source": [
        "agent=create_sql_agent(llm=llm,toolkit=sql_toolkit,agent_type=AgentType.ZERO_SHOT_REACT_DESCRIPTION,handle_parsing_errors=True,verbose=True)\n",
        "agent.run(prompt.format_prompt(question=\"SELECT JobTitle FROM UserMaster WHERE ForeName = 'Randeep'\"))"
      ]
    },
    {
      "cell_type": "code",
      "execution_count": null,
      "metadata": {},
      "outputs": [],
      "source": []
    }
  ],
  "metadata": {
    "colab": {
      "provenance": []
    },
    "kernelspec": {
      "display_name": "Python 3",
      "name": "python3"
    },
    "language_info": {
      "codemirror_mode": {
        "name": "ipython",
        "version": 3
      },
      "file_extension": ".py",
      "mimetype": "text/x-python",
      "name": "python",
      "nbconvert_exporter": "python",
      "pygments_lexer": "ipython3",
      "version": "3.11.7"
    }
  },
  "nbformat": 4,
  "nbformat_minor": 0
}
